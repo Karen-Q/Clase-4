{
 "cells": [
  {
   "cell_type": "code",
   "execution_count": 2,
   "metadata": {},
   "outputs": [],
   "source": [
    "from urllib.request import Request, urlopen\n",
    "from pyquery import PyQuery"
   ]
  },
  {
   "cell_type": "code",
   "execution_count": 10,
   "metadata": {},
   "outputs": [
    {
     "name": "stdout",
     "output_type": "stream",
     "text": [
      "3620.4\n"
     ]
    }
   ],
   "source": [
    "req=Request('https://www.dane.gov.co/index.php/indicadores-economicos', None, {'User-agent' : 'Mozilla/5.0 (Windows; U; Windows NT 5.1; de; rv:1.9.1.5) Gecko/20091102 Firefox/3.5.5'})\n",
    "content=urlopen(req).read()\n",
    "pq=PyQuery(content)\n",
    "trm = str([i.text() for i in pq('table').eq(1)('h1').items()][0]).replace('$', '').replace('.','').replace(',','.')\n",
    "trm=float(trm)\n",
    "print(trm)"
   ]
  },
  {
   "cell_type": "code",
   "execution_count": 11,
   "metadata": {},
   "outputs": [
    {
     "name": "stdout",
     "output_type": "stream",
     "text": [
      "72408.0\n"
     ]
    }
   ],
   "source": [
    "valor_Peso=trm*20\n",
    "print(valor_Peso)"
   ]
  },
  {
   "cell_type": "code",
   "execution_count": 14,
   "metadata": {},
   "outputs": [
    {
     "name": "stdout",
     "output_type": "stream",
     "text": [
      "908526\n"
     ]
    }
   ],
   "source": [
    "req=Request('https://www.dane.gov.co/index.php/indicadores-economicos', None, {'User-agent' : 'Mozilla/5.0 (Windows; U; Windows NT 5.1; de; rv:1.9.1.5) Gecko/20091102 Firefox/3.5.5'})\n",
    "content=urlopen(req).read()\n",
    "pq=PyQuery(content)\n",
    "salariominimo = str([i.text() for i in pq('table').eq(7)('h1').items()][0]).replace('$', '').replace('.','').replace(',','.')\n",
    "print(salariominimo)"
   ]
  },
  {
   "cell_type": "code",
   "execution_count": 15,
   "metadata": {},
   "outputs": [],
   "source": [
    "variable= 3.5"
   ]
  },
  {
   "cell_type": "code",
   "execution_count": 16,
   "metadata": {},
   "outputs": [
    {
     "name": "stdout",
     "output_type": "stream",
     "text": [
      "mal\n"
     ]
    }
   ],
   "source": [
    "if str(type(variable)) ==\"<class'float'>\":\n",
    "    print('bien')\n",
    "else:\n",
    "    print('mal')"
   ]
  },
  {
   "cell_type": "code",
   "execution_count": 17,
   "metadata": {},
   "outputs": [],
   "source": [
    "lista=[{'variable':'salario', 'resultado': 1300000}, 5,9,10,25]\n",
    "# [2,5,9,10,25]\n",
    "# 0,1, 2"
   ]
  },
  {
   "cell_type": "code",
   "execution_count": null,
   "metadata": {},
   "outputs": [],
   "source": [
    "for i in lista:\n",
    "    "
   ]
  }
 ],
 "metadata": {
  "kernelspec": {
   "display_name": "Python 3",
   "language": "python",
   "name": "python3"
  },
  "language_info": {
   "codemirror_mode": {
    "name": "ipython",
    "version": 3
   },
   "file_extension": ".py",
   "mimetype": "text/x-python",
   "name": "python",
   "nbconvert_exporter": "python",
   "pygments_lexer": "ipython3",
   "version": "3.8.5"
  }
 },
 "nbformat": 4,
 "nbformat_minor": 4
}
